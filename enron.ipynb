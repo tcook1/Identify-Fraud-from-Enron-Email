{
 "cells": [
  {
   "cell_type": "markdown",
   "metadata": {},
   "source": [
    "# Using Machine Learning to Identify Fraud in Enron Emails"
   ]
  },
  {
   "cell_type": "markdown",
   "metadata": {},
   "source": [
    "By Trevor Cook"
   ]
  },
  {
   "cell_type": "code",
   "execution_count": 1,
   "metadata": {
    "collapsed": false
   },
   "outputs": [],
   "source": [
    "# %load poi_id.py\n",
    "#!/usr/bin/python\n",
    "\n",
    "import sys\n",
    "import pickle\n",
    "sys.path.append(\"../tools/\")\n",
    "\n",
    "import numpy as np\n",
    "import matplotlib.pyplot as plt\n",
    "from feature_format import featureFormat, targetFeatureSplit\n",
    "from tester import dump_classifier_and_data\n",
    "\n",
    "# Select what features to use.\n",
    "# The first feature must be \"poi\".\n",
    "features_list = ['poi', 'salary', 'to_messages', 'deferral_payments', 'total_payments', 'exercised_stock_options', 'bonus', 'restricted_stock', 'shared_receipt_with_poi', 'restricted_stock_deferred', 'total_stock_value', 'expenses', 'loan_advances', 'from_messages', 'other', 'from_this_person_to_poi', 'director_fees', 'deferred_income', 'long_term_incentive', 'from_poi_to_this_person']\n",
    "\n",
    "# Load the dictionary containing the dataset\n",
    "with open(\"final_project_dataset.pkl\", \"r\") as data_file:\n",
    "    data_dict = pickle.load(data_file)\n"
   ]
  },
  {
   "cell_type": "code",
   "execution_count": 28,
   "metadata": {
    "collapsed": false
   },
   "outputs": [
    {
     "name": "stdout",
     "output_type": "stream",
     "text": [
      "Number of data points:  3066\n",
      "Number of features:  20\n",
      "Number of POIs:  18\n",
      "Number of non POIs:  128\n",
      "Number of employees:  146\n"
     ]
    }
   ],
   "source": [
    "# Explore the dataset\n",
    "poi = 0\n",
    "non_poi = 0\n",
    "for v in data_dict.itervalues():\n",
    "    if v['poi'] == True:\n",
    "        poi += 1\n",
    "    else:\n",
    "        non_poi += 1\n",
    "\n",
    "print 'Number of data points: ', sum(len(v) for v in data_dict.itervalues())\n",
    "print 'Number of features: ', len(features_list)\n",
    "print 'Number of POIs: ', poi\n",
    "print 'Number of non POIs: ', non_poi\n",
    "print 'Number of employees: ', poi + non_poi"
   ]
  },
  {
   "cell_type": "code",
   "execution_count": null,
   "metadata": {
    "collapsed": false
   },
   "outputs": [],
   "source": [
    "# Remove outliers\n",
    "data_dict.pop('TOTAL', 0)\n",
    "data_dict.pop('THE TRAVEL AGENCY IN THE PARK', 0)\n",
    "\n",
    "# Create new features\n",
    "import math\n",
    "# Add new features to data_dict\n",
    "for name in data_dict:\n",
    "    from_ratio = float(data_dict[name]['from_poi_to_this_person']) / float(data_dict[name]['to_messages']) \n",
    "    # Corrects for non-string NaN values resulting from new features\n",
    "    if math.isnan(from_ratio):\n",
    "        data_dict[name]['percent_from_poi'] = 0\n",
    "    else:\n",
    "        data_dict[name]['percent_from_poi'] = from_ratio\n",
    "\n",
    "for name in data_dict:\n",
    "    to_ratio = float(data_dict[name]['from_this_person_to_poi']) / float(data_dict[name]['from_messages'])\n",
    "    if math.isnan(to_ratio):\n",
    "        data_dict[name]['percent_to_poi'] = 0\n",
    "    else:\n",
    "        data_dict[name]['percent_to_poi'] = to_ratio\n",
    "\n",
    "# Append new features to features_list\n",
    "features_list.append('percent_from_poi')\n",
    "features_list.append('percent_to_poi')\n",
    "\n",
    "\n",
    "# Store to my_dataset for easy export below.\n",
    "my_dataset = data_dict\n",
    "\n",
    "# Extract features and labels from dataset for local testing\n",
    "data = featureFormat(my_dataset, features_list, sort_keys = True)\n",
    "labels, features = targetFeatureSplit(data)"
   ]
  },
  {
   "cell_type": "code",
   "execution_count": 2,
   "metadata": {
    "collapsed": false
   },
   "outputs": [],
   "source": [
    "# Try a vareity of classifiers\n",
    "\n",
    "# Split data into training and testing sets\n",
    "from sklearn.cross_validation import train_test_split\n",
    "features_train, features_test, labels_train, labels_test = \\\n",
    "    train_test_split(features, labels, test_size=0.3, random_state=42)\n",
    "\n",
    "from sklearn.naive_bayes import GaussianNB\n",
    "from sklearn import tree\n",
    "from sklearn import svm\n",
    "from sklearn.neighbors import KNeighborsClassifier\n",
    "\n",
    "# Create classifiers\n",
    "nb_clf = GaussianNB()\n",
    "tree_clf = tree.DecisionTreeClassifier()\n",
    "svm_clf = svm.SVC()\n",
    "knn_clf = KNeighborsClassifier()\n",
    "\n",
    "# Set range of parameters for classifiers\n",
    "nb_params = {\n",
    "    'feature_selection__k': [8, 10, 12, 14]\n",
    "}\n",
    "tree_params = {\n",
    "    'feature_selection__k': [8, 10, 12, 14],\n",
    "    'algorithm__criterion': ['gini', 'entropy'],\n",
    "    'algorithm__max_depth': range(2, 12, 2)\n",
    "}\n",
    "svm_params = {\n",
    "    'feature_selection__k': [8, 10, 12, 14],\n",
    "    'algorithm__kernel': ['rbf', 'poly'],\n",
    "    'algorithm__C': [1, 10, 100],\n",
    "    'algorithm__gamma': [.001, .01, 1]\n",
    "}\n",
    "knn_params = {\n",
    "    'feature_selection__k': [8, 10, 12, 14],\n",
    "    'algorithm__n_neighbors': range(2, 6)\n",
    "}\n",
    "\n",
    "from sklearn.feature_selection import SelectKBest\n",
    "from sklearn.preprocessing import MinMaxScaler\n",
    "from sklearn.pipeline import Pipeline\n",
    "from sklearn.cross_validation import StratifiedShuffleSplit\n",
    "from sklearn.grid_search import GridSearchCV\n",
    "from sklearn.metrics import confusion_matrix, classification_report\n",
    "from pprint import pprint\n",
    "\n",
    "# Choose an algorithm\n",
    "def choose_algorithm(classifier, params):\n",
    "    '''\n",
    "    Function that takes in an algorithm classifier and their respective parameters as inputs.\n",
    "    Performs SelectKBest feature selection, MinMaxScaler preprocessing, and GridSearchCV\n",
    "    for parameter selection into a pipeline. Prints parameter options, pipeline steps, f1 score,\n",
    "    optimal parameters, and evaluation metrics. Returns pipeline classifier.\n",
    "    '''\n",
    "    select = SelectKBest()\n",
    "    scaler = MinMaxScaler()\n",
    "    \n",
    "    # Steps to be fed into pipeline\n",
    "    steps = [('feature_selection', select),\n",
    "             ('min_max_scaler', scaler),\n",
    "             ('algorithm', classifier)]\n",
    "    \n",
    "    pipeline = Pipeline(steps)\n",
    "    \n",
    "    folds = 100\n",
    "    # StratifiedShuffleSplit returns stratified randomized folds\n",
    "    sss = StratifiedShuffleSplit(labels_train, n_iter=folds, random_state=42)\n",
    "    gs = GridSearchCV(pipeline, param_grid = params, cv=sss, scoring = 'f1')\n",
    "    \n",
    "    print 'Parameters:'\n",
    "    pprint(params)\n",
    "    print \"\"\n",
    "    \n",
    "    # Print out pipeline steps\n",
    "    print\"Pipeline: \\n\", [step for step, _ in pipeline.steps], '\\n'\n",
    "    \n",
    "    # Fit training data to GridSearchCV\n",
    "    gs.fit(features_train, labels_train)\n",
    "    \n",
    "    # Print f1 score\n",
    "    score = gs.best_score_\n",
    "    print 'Score: \\n', score, '\\n'\n",
    "    \n",
    "    # Fetch optimal parameters found\n",
    "    best_params = gs.best_estimator_.get_params()\n",
    "    print 'Best Parameters: '\n",
    "    for name in params.keys():\n",
    "        print name, ': ', best_params[name]\n",
    "    \n",
    "    pred = gs.predict(features_test)\n",
    "    # Print Confusion Matrix and Classification Report evaluation metrics\n",
    "    print '\\n Confusion Matrix:'\n",
    "    print confusion_matrix(labels_test, pred)\n",
    "    \n",
    "    report = classification_report(labels_test, pred)\n",
    "    print '\\n Classification Report:'\n",
    "    print report\n",
    "    \n",
    "    clf = gs.best_estimator_\n",
    "    return clf\n",
    "        "
   ]
  },
  {
   "cell_type": "code",
   "execution_count": 11,
   "metadata": {
    "collapsed": false
   },
   "outputs": [
    {
     "name": "stdout",
     "output_type": "stream",
     "text": [
      "Naive Bayes Algorithm: \n",
      "\n",
      "Parameters:\n",
      "{'feature_selection__k': [8, 10, 12, 14]}\n",
      "\n",
      "Pipeline: \n",
      "['feature_selection', 'min_max_scaler', 'algorithm'] \n",
      "\n",
      "Score: \n",
      "0.134333333333 \n",
      "\n",
      "Best Parameters: \n",
      "feature_selection__k :  8\n",
      "\n",
      " Confusion Matrix:\n",
      "[[35  3]\n",
      " [ 2  3]]\n",
      "\n",
      " Classification Report:\n",
      "             precision    recall  f1-score   support\n",
      "\n",
      "        0.0       0.95      0.92      0.93        38\n",
      "        1.0       0.50      0.60      0.55         5\n",
      "\n",
      "avg / total       0.89      0.88      0.89        43\n",
      "\n"
     ]
    },
    {
     "data": {
      "text/plain": [
       "Pipeline(steps=[('feature_selection', SelectKBest(k=8, score_func=<function f_classif at 0x10e99c668>)), ('min_max_scaler', MinMaxScaler(copy=True, feature_range=(0, 1))), ('algorithm', GaussianNB())])"
      ]
     },
     "execution_count": 11,
     "metadata": {},
     "output_type": "execute_result"
    }
   ],
   "source": [
    "print 'Naive Bayes Algorithm: \\n'\n",
    "choose_algorithm(nb_clf, nb_params)"
   ]
  },
  {
   "cell_type": "code",
   "execution_count": 12,
   "metadata": {
    "collapsed": false
   },
   "outputs": [
    {
     "name": "stdout",
     "output_type": "stream",
     "text": [
      "Decision Tree Algorithm: \n",
      "\n",
      "Parameters:\n",
      "{'algorithm__criterion': ['gini', 'entropy'],\n",
      " 'algorithm__max_depth': [2, 4, 6, 8, 10],\n",
      " 'feature_selection__k': [8, 10, 12, 14]}\n",
      "\n",
      "Pipeline: \n",
      "['feature_selection', 'min_max_scaler', 'algorithm'] \n",
      "\n",
      "Score: \n",
      "0.423 \n",
      "\n",
      "Best Parameters: \n",
      "feature_selection__k :  8\n",
      "algorithm__criterion :  gini\n",
      "algorithm__max_depth :  6\n",
      "\n",
      " Confusion Matrix:\n",
      "[[34  4]\n",
      " [ 2  3]]\n",
      "\n",
      " Classification Report:\n",
      "             precision    recall  f1-score   support\n",
      "\n",
      "        0.0       0.94      0.89      0.92        38\n",
      "        1.0       0.43      0.60      0.50         5\n",
      "\n",
      "avg / total       0.88      0.86      0.87        43\n",
      "\n"
     ]
    },
    {
     "data": {
      "text/plain": [
       "Pipeline(steps=[('feature_selection', SelectKBest(k=8, score_func=<function f_classif at 0x10e99c668>)), ('min_max_scaler', MinMaxScaler(copy=True, feature_range=(0, 1))), ('algorithm', DecisionTreeClassifier(class_weight=None, criterion='gini', max_depth=6,\n",
       "            max_features=None, max_leaf_nodes=None, min_samples_leaf=1,\n",
       "            min_samples_split=2, min_weight_fraction_leaf=0.0,\n",
       "            presort=False, random_state=None, splitter='best'))])"
      ]
     },
     "execution_count": 12,
     "metadata": {},
     "output_type": "execute_result"
    }
   ],
   "source": [
    "print 'Decision Tree Algorithm: \\n'\n",
    "choose_algorithm(tree_clf, tree_params)"
   ]
  },
  {
   "cell_type": "code",
   "execution_count": 15,
   "metadata": {
    "collapsed": false
   },
   "outputs": [
    {
     "name": "stdout",
     "output_type": "stream",
     "text": [
      "Support Vector Machine Algorithm: \n",
      "\n",
      "Parameters:\n",
      "{'algorithm__C': [1, 10, 100],\n",
      " 'algorithm__gamma': [0.001, 0.01, 1],\n",
      " 'algorithm__kernel': ['rbf', 'poly'],\n",
      " 'feature_selection__k': [8, 10, 12, 14]}\n",
      "\n",
      "Pipeline: \n",
      "['feature_selection', 'min_max_scaler', 'algorithm'] \n",
      "\n",
      "Score: \n",
      "0.154666666667 \n",
      "\n",
      "Best Parameters: \n",
      "algorithm__gamma :  1\n",
      "feature_selection__k :  14\n",
      "algorithm__C :  100\n",
      "algorithm__kernel :  rbf\n",
      "\n",
      " Confusion Matrix:\n",
      "[[36  2]\n",
      " [ 4  1]]\n",
      "\n",
      " Classification Report:\n",
      "             precision    recall  f1-score   support\n",
      "\n",
      "        0.0       0.90      0.95      0.92        38\n",
      "        1.0       0.33      0.20      0.25         5\n",
      "\n",
      "avg / total       0.83      0.86      0.84        43\n",
      "\n"
     ]
    },
    {
     "data": {
      "text/plain": [
       "Pipeline(steps=[('feature_selection', SelectKBest(k=14, score_func=<function f_classif at 0x10e99c668>)), ('min_max_scaler', MinMaxScaler(copy=True, feature_range=(0, 1))), ('algorithm', SVC(C=100, cache_size=200, class_weight=None, coef0=0.0,\n",
       "  decision_function_shape=None, degree=3, gamma=1, kernel='rbf',\n",
       "  max_iter=-1, probability=False, random_state=None, shrinking=True,\n",
       "  tol=0.001, verbose=False))])"
      ]
     },
     "execution_count": 15,
     "metadata": {},
     "output_type": "execute_result"
    }
   ],
   "source": [
    "print 'Support Vector Machine Algorithm: \\n'\n",
    "choose_algorithm(svm_clf, svm_params)"
   ]
  },
  {
   "cell_type": "code",
   "execution_count": 14,
   "metadata": {
    "collapsed": false
   },
   "outputs": [
    {
     "name": "stdout",
     "output_type": "stream",
     "text": [
      "K Nearest Neighbor Algorithm: \n",
      "\n",
      "Parameters:\n",
      "{'algorithm__n_neighbors': [2, 3, 4, 5],\n",
      " 'feature_selection__k': [8, 10, 12, 14]}\n",
      "\n",
      "Pipeline: \n",
      "['feature_selection', 'min_max_scaler', 'algorithm'] \n",
      "\n",
      "Score: \n",
      "0.0983333333333 \n",
      "\n",
      "Best Parameters: \n",
      "feature_selection__k :  8\n",
      "algorithm__n_neighbors :  3\n",
      "\n",
      " Confusion Matrix:\n",
      "[[36  2]\n",
      " [ 4  1]]\n",
      "\n",
      " Classification Report:\n",
      "             precision    recall  f1-score   support\n",
      "\n",
      "        0.0       0.90      0.95      0.92        38\n",
      "        1.0       0.33      0.20      0.25         5\n",
      "\n",
      "avg / total       0.83      0.86      0.84        43\n",
      "\n"
     ]
    },
    {
     "data": {
      "text/plain": [
       "Pipeline(steps=[('feature_selection', SelectKBest(k=8, score_func=<function f_classif at 0x10e99c668>)), ('min_max_scaler', MinMaxScaler(copy=True, feature_range=(0, 1))), ('algorithm', KNeighborsClassifier(algorithm='auto', leaf_size=30, metric='minkowski',\n",
       "           metric_params=None, n_jobs=1, n_neighbors=3, p=2,\n",
       "           weights='uniform'))])"
      ]
     },
     "execution_count": 14,
     "metadata": {},
     "output_type": "execute_result"
    }
   ],
   "source": [
    "print 'K Nearest Neighbor Algorithm: \\n'\n",
    "choose_algorithm(knn_clf, knn_params)"
   ]
  },
  {
   "cell_type": "code",
   "execution_count": 13,
   "metadata": {
    "collapsed": false
   },
   "outputs": [
    {
     "name": "stdout",
     "output_type": "stream",
     "text": [
      "Parameters:\n",
      "{'algorithm__criterion': ['gini', 'entropy'],\n",
      " 'algorithm__max_depth': [2, 4, 6, 8, 10],\n",
      " 'feature_selection__k': [8, 10, 12, 14]}\n",
      "\n",
      "Pipeline: \n",
      "['feature_selection', 'min_max_scaler', 'algorithm'] \n",
      "\n",
      "Score: \n",
      "0.400666666667 \n",
      "\n",
      "Best Parameters: \n",
      "feature_selection__k :  8\n",
      "algorithm__criterion :  gini\n",
      "algorithm__max_depth :  8\n",
      "\n",
      " Confusion Matrix:\n",
      "[[35  3]\n",
      " [ 2  3]]\n",
      "\n",
      " Classification Report:\n",
      "             precision    recall  f1-score   support\n",
      "\n",
      "        0.0       0.95      0.92      0.93        38\n",
      "        1.0       0.50      0.60      0.55         5\n",
      "\n",
      "avg / total       0.89      0.88      0.89        43\n",
      "\n"
     ]
    }
   ],
   "source": [
    "### Task 5: Tune your classifier to achieve better than .3 precision and recall \n",
    "### using our testing script. Check the tester.py script in the final project\n",
    "### folder for details on the evaluation method, especially the test_classifier\n",
    "### function. Because of the small size of the dataset, the script uses\n",
    "### stratified shuffle split cross validation. For more info: \n",
    "### http://scikit-learn.org/stable/modules/generated/sklearn.cross_validation.StratifiedShuffleSplit.html\n",
    "\n",
    "# Assign the Decision Tree algorithm to clf as it produced the best f1 score\n",
    "clf = choose_algorithm(tree_clf, tree_params)\n",
    "    \n",
    "### Task 6: Dump your classifier, dataset, and features_list so anyone can\n",
    "### check your results. You do not need to change anything below, but make sure\n",
    "### that the version of poi_id.py that you submit can be run on its own and\n",
    "### generates the necessary .pkl files for validating your results.\n",
    "\n",
    "dump_classifier_and_data(clf, my_dataset, features_list)"
   ]
  },
  {
   "cell_type": "markdown",
   "metadata": {},
   "source": [
    "# Enron Response Questions"
   ]
  },
  {
   "cell_type": "markdown",
   "metadata": {},
   "source": [
    "1: Summarize for us the goal of this project and how machine learning is useful in trying to accomplish it. As part of your answer, give some background on the dataset and how it can be used to answer the project question. Were there any outliers in the data when you got it, and how did you handle those?  [relevant rubric items: “data exploration”, “outlier investigation”]"
   ]
  },
  {
   "cell_type": "markdown",
   "metadata": {},
   "source": [
    "The purpose of this project is to performing machine learning techniques by building an algorithm that can identify Enron employees who may have been involved in the company's fraud. A dataset containing information on various financial and email indicators of different Enron employees was used to help build the model. This includes features such as the employee name, salary, bonus, number of emails sent, and whether or not they are a POI (Person of Interest). The next step is to explore the dataset to look for any relationships or outliers between the data. For example, I found that there was a 'Total' column included in the data, as well as a datapoint called 'The Travel Agency in the Park'. These datapoints are irrelevant to our investigation as they are not Enron employees. Once the dataset has been cleaned for outliers, I was able to use the relevant features to help make predictions on the likelihood that a given employee was a POI."
   ]
  },
  {
   "cell_type": "markdown",
   "metadata": {},
   "source": [
    "2: What features did you end up using in your POI identifier, and what selection process did you use to pick them? Did you have to do any scaling? Why or why not? As part of the assignment, you should attempt to engineer your own feature that does not come ready-made in the dataset -- explain what feature you tried to make, and the rationale behind it. (You do not necessarily have to use it in the final analysis, only engineer and test it.) In your feature selection step, if you used an algorithm like a decision tree, please also give the feature importances of the features that you use, and if you used an automated feature selection function like SelectKBest, please report the feature scores and reasons for your choice of parameter values.  [relevant rubric items: “create new features”, “properly scale features”, “intelligently select feature”]"
   ]
  },
  {
   "cell_type": "markdown",
   "metadata": {},
   "source": [
    "My initial features list contained all 20 available features within the dataset. I also decided to create two additional features called 'percent_from_poi' and 'percent_to_poi' using the original data provided. These features represent the ratio between the number of emails received (sent) from a POI to the total number of emails received (sent). The idea behind this is that I would like to investigate whether employees are likely to be POI's themselves if they communicate frequently with other POI's. I then preprocessed my features list by optimizing feature selection and feature importance. I used SelectKBest to select the best K features, as well as MinMaxScaler to add weights to the remaining features. Preprocessing data in machine learning is an important step before picking an algorithm as it  reduces the processing time of the algorithms. For example, I noticed that using MinMaxScaler reduced the completion time of the support vector machine algorithm from several hours to several minutes. Another reason is that some features may not be relevant when making predictions, and can therefore be ignored."
   ]
  },
  {
   "cell_type": "markdown",
   "metadata": {},
   "source": [
    "3: What algorithm did you end up using? What other one(s) did you try? How did model performance differ between algorithms?  [relevant rubric item: “pick an algorithm”]"
   ]
  },
  {
   "cell_type": "markdown",
   "metadata": {},
   "source": [
    "I tested four differect algorithms: Naive Bayes, Decision Tree, Support Vector Machine, and K Nearest Neighbor.  I noticed when running these algorithms that they each took different amount of times to execute, and also made different predictions. The support vector machine took the longest time to run, and K Nearest Neighbor returned the poorest classification results. Based on the evaluation metrics of each algorithm, I decided to choose the Decision Tree algorithm as it returned the highest f1 score."
   ]
  },
  {
   "cell_type": "markdown",
   "metadata": {},
   "source": [
    "4: What does it mean to tune the parameters of an algorithm, and what can happen if you don’t do this well?  How did you tune the parameters of your particular algorithm? (Some algorithms do not have parameters that you need to tune -- if this is the case for the one you picked, identify and briefly explain how you would have done it for the model that was not your final choice or a different model that does utilize parameter tuning, e.g. a decision tree classifier).  [relevant rubric item: “tune the algorithm”]"
   ]
  },
  {
   "cell_type": "markdown",
   "metadata": {},
   "source": [
    "Several machine learning algorithms take in parameters that determine how it will be performed. This is an important step in the machine learning process as it will determine the results of the model. If not done properly, the algorithm may run the risk of over-fitting or under-fitting the data. This will cause the results from the training data to differ from the testing data. Fortunately, scikit-learn provides a class called GridSearchCV to help find the optimal parameters of the model. For the Decision Tree algorithm, I tested the 'criterion' parameters of 'gini' and 'entropy', as well as 'max_depth' of 2, 4, 6, 8, and 10. After simulating each of the possible parameters through brute force, GridSearchCV returned the optimal parameters to be 'criterion':'gini' and 'max_depth': 6."
   ]
  },
  {
   "cell_type": "markdown",
   "metadata": {},
   "source": [
    "5: What is validation, and what’s a classic mistake you can make if you do it wrong? How did you validate your analysis?  [relevant rubric item: “validation strategy”]"
   ]
  },
  {
   "cell_type": "markdown",
   "metadata": {},
   "source": [
    "In machine learning, data is split up into training and testing sets. The training set is used to train the model, while the remaining test set is used for predictions. We 'pretend' to not know the results of the test set, and compare predictions to actual results to measure the results. However, there is a risk of overfitting the data as knowledge about the test set can 'leak' into the model. To solve this problem, cross-validation may be used by splitting the test data into smaller subsets. After several rounds of validation, the average results are returned. For this project, I used Stratified Shuffle Split, which splits up a random portion of the data several times. "
   ]
  },
  {
   "cell_type": "markdown",
   "metadata": {},
   "source": [
    "6: Give at least 2 evaluation metrics and your average performance for each of them.  Explain an interpretation of your metrics that says something human-understandable about your algorithm’s performance. [relevant rubric item: “usage of evaluation metrics”]"
   ]
  },
  {
   "cell_type": "markdown",
   "metadata": {},
   "source": [
    "Evaluation metrics are used to measure the results of an algorithm. I chose to include a classification report for each algorith since this returns information on precision, recall, and f1 score. I also included a confustion matrix, which is a matrix of actual classes vs. predicted classes. By looking at the matrix, we can get a visual representation of the algorithms' true positives, true negatives, false positives, and false negatives. The Decision Tree algorithm identified 34/38 non-POIs correctly (recall = 0.89), and 3/5 POIs correctly (recall = 0.6) in the training dataset. It inacurately classified 2 POIs as non-POIs (precision = 0.94), and 4 non-POIs as POIs (precision = 0.43)."
   ]
  },
  {
   "cell_type": "markdown",
   "metadata": {
    "collapsed": true
   },
   "source": [
    "<h3>References:</h3>\n",
    "\n",
    "https://civisanalytics.com/blog/data-science/2016/01/06/workflows-python-using-pipeline-gridsearchcv-for-compact-code/\n",
    "http://abshinn.github.io/python/sklearn/2014/06/08/grid-searching-in-all-the-right-places/\n",
    "https://github.com/amueller/scipy_2015_sklearn_tutorial/tree/master/notebooks\n",
    "https://www.youtube.com/watch?v=80fZrVMurPM\n",
    "https://www.youtube.com/watch?v=Ud-FsEWegmA&t=8173s"
   ]
  },
  {
   "cell_type": "code",
   "execution_count": null,
   "metadata": {
    "collapsed": true
   },
   "outputs": [],
   "source": []
  }
 ],
 "metadata": {
  "kernelspec": {
   "display_name": "Python 2",
   "language": "python",
   "name": "python2"
  },
  "language_info": {
   "codemirror_mode": {
    "name": "ipython",
    "version": 2
   },
   "file_extension": ".py",
   "mimetype": "text/x-python",
   "name": "python",
   "nbconvert_exporter": "python",
   "pygments_lexer": "ipython2",
   "version": "2.7.12"
  }
 },
 "nbformat": 4,
 "nbformat_minor": 0
}
