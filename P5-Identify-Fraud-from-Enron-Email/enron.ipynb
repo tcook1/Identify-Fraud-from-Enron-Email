{
 "cells": [
  {
   "cell_type": "markdown",
   "metadata": {},
   "source": [
    "# Using Machine Learning to Identify Fraud in Enron Emails"
   ]
  },
  {
   "cell_type": "markdown",
   "metadata": {},
   "source": [
    "By Trevor Cook"
   ]
  },
  {
   "cell_type": "markdown",
   "metadata": {},
   "source": [
    "This project uses machine learning techniques to identify Enron employees who may have been involved in the company's fraud. The dataset that was used contains information on various financial and email indicators of different Enron employees. With this information, I was able to build an algorithm that can successfully predict whether a given employee was a POI (person of interest), with a precision and recall score of above 0.3"
   ]
  },
  {
   "cell_type": "code",
   "execution_count": 1,
   "metadata": {
    "collapsed": false
   },
   "outputs": [],
   "source": [
    "# %load poi_id.py\n",
    "#!/usr/bin/python\n",
    "\n",
    "import sys\n",
    "import pickle\n",
    "sys.path.append(\"../tools/\")\n",
    "\n",
    "import numpy as np\n",
    "import matplotlib.pyplot as plt\n",
    "from feature_format import featureFormat, targetFeatureSplit\n",
    "from tester import dump_classifier_and_data\n",
    "from pprint import pprint\n",
    "\n",
    "# Select what features to use.\n",
    "# The first feature must be \"poi\".\n",
    "features_list = ['poi', 'salary', 'to_messages', 'deferral_payments', 'total_payments', 'exercised_stock_options', 'bonus', 'restricted_stock', 'shared_receipt_with_poi', 'restricted_stock_deferred', 'total_stock_value', 'expenses', 'loan_advances', 'from_messages', 'other', 'from_this_person_to_poi', 'director_fees', 'deferred_income', 'long_term_incentive', 'from_poi_to_this_person']\n",
    "\n",
    "# Load the dictionary containing the dataset\n",
    "with open(\"final_project_dataset.pkl\", \"r\") as data_file:\n",
    "    data_dict = pickle.load(data_file)\n"
   ]
  },
  {
   "cell_type": "code",
   "execution_count": 2,
   "metadata": {
    "collapsed": false
   },
   "outputs": [
    {
     "name": "stdout",
     "output_type": "stream",
     "text": [
      "Number of data points:  3066\n",
      "Number of features:  20\n",
      "Number of POIs:  18\n",
      "Number of non POIs:  128\n",
      "Number of employees:  146\n",
      "Number of NaN values per feature: \n",
      "[('loan_advances', 142),\n",
      " ('director_fees', 129),\n",
      " ('restricted_stock_deferred', 128),\n",
      " ('deferral_payments', 107),\n",
      " ('deferred_income', 97),\n",
      " ('long_term_incentive', 80),\n",
      " ('bonus', 64),\n",
      " ('to_messages', 60),\n",
      " ('from_poi_to_this_person', 60),\n",
      " ('from_messages', 60),\n",
      " ('from_this_person_to_poi', 60),\n",
      " ('shared_receipt_with_poi', 60),\n",
      " ('other', 53),\n",
      " ('salary', 51),\n",
      " ('expenses', 51),\n",
      " ('exercised_stock_options', 44),\n",
      " ('restricted_stock', 36),\n",
      " ('email_address', 35),\n",
      " ('total_payments', 21),\n",
      " ('total_stock_value', 20)]\n"
     ]
    }
   ],
   "source": [
    "# Explore the dataset\n",
    "\n",
    "# Count number of POIs and non-POIs\n",
    "poi = 0\n",
    "non_poi = 0\n",
    "for v in data_dict.itervalues():\n",
    "    if v['poi'] == True:\n",
    "        poi += 1\n",
    "    else:\n",
    "        non_poi += 1\n",
    "        \n",
    "# Count number of NaN values for each feature        \n",
    "nan_features = {'bonus': 0,\n",
    " 'deferral_payments': 0,\n",
    " 'deferred_income': 0,\n",
    " 'director_fees': 0,\n",
    " 'email_address': 0,\n",
    " 'exercised_stock_options': 0,\n",
    " 'expenses': 0,\n",
    " 'from_messages': 0,\n",
    " 'from_poi_to_this_person': 0,\n",
    " 'from_this_person_to_poi': 0,\n",
    " 'loan_advances': 0,\n",
    " 'long_term_incentive': 0,\n",
    " 'other': 0,\n",
    " 'restricted_stock': 0,\n",
    " 'restricted_stock_deferred': 0,\n",
    " 'salary': 0,\n",
    " 'shared_receipt_with_poi': 0,\n",
    " 'to_messages': 0,\n",
    " 'total_payments': 0,\n",
    " 'total_stock_value': 0}\n",
    "\n",
    "for i in data_dict.values():\n",
    "    for k in i.items():\n",
    "        if k[1] == 'NaN':\n",
    "            nan_features[k[0]] += 1       \n",
    "\n",
    "# Print out characteristics of the dataset\n",
    "print 'Number of data points: ', sum(len(v) for v in data_dict.itervalues())\n",
    "print 'Number of features: ', len(features_list)\n",
    "print 'Number of POIs: ', poi\n",
    "print 'Number of non POIs: ', non_poi\n",
    "print 'Number of employees: ', poi + non_poi\n",
    "print 'Number of NaN values per feature: '\n",
    "pprint(sorted(nan_features.items(), key = lambda x: x[1], reverse=True))"
   ]
  },
  {
   "cell_type": "code",
   "execution_count": 3,
   "metadata": {
    "collapsed": false
   },
   "outputs": [],
   "source": [
    "# Remove outliers\n",
    "def remove_outliers(data, outliers):\n",
    "    '''Removes outliers from the data'''\n",
    "    for name in outliers:\n",
    "        data.pop(name, 0)\n",
    "\n",
    "outliers_list = ['TOTAL', 'THE TRAVEL AGENCY IN THE PARK', 'LOCKHART EUGENE E']      \n",
    "remove_outliers(data_dict, outliers_list)\n",
    "\n",
    "\n",
    "# Create new features\n",
    "import math\n",
    "# Add new features to data_dict\n",
    "for name in data_dict:\n",
    "    from_ratio = float(data_dict[name]['from_poi_to_this_person']) / float(data_dict[name]['to_messages']) \n",
    "    # Corrects for non-string NaN values resulting from new features\n",
    "    if math.isnan(from_ratio):\n",
    "        data_dict[name]['percent_from_poi'] = 0\n",
    "    else:\n",
    "        data_dict[name]['percent_from_poi'] = from_ratio\n",
    "\n",
    "for name in data_dict:\n",
    "    to_ratio = float(data_dict[name]['from_this_person_to_poi']) / float(data_dict[name]['from_messages'])\n",
    "    if math.isnan(to_ratio):\n",
    "        data_dict[name]['percent_to_poi'] = 0\n",
    "    else:\n",
    "        data_dict[name]['percent_to_poi'] = to_ratio\n",
    "\n",
    "# Append new features to features_list\n",
    "features_list.append('percent_from_poi')\n",
    "features_list.append('percent_to_poi')\n",
    "\n",
    "\n",
    "# Store to my_dataset for easy export below.\n",
    "my_dataset = data_dict\n",
    "\n",
    "# Extract features and labels from dataset for local testing\n",
    "data = featureFormat(my_dataset, features_list, sort_keys = True)\n",
    "labels, features = targetFeatureSplit(data)"
   ]
  },
  {
   "cell_type": "code",
   "execution_count": 4,
   "metadata": {
    "collapsed": false
   },
   "outputs": [],
   "source": [
    "# Print SelectKBest scores\n",
    "from sklearn.feature_selection import SelectKBest\n",
    "\n",
    "def k_best_features(k):\n",
    "    '''Selects k best features. Returns a dictionary where keys, values = feature name, score'''\n",
    "    selector = SelectKBest(k=k)\n",
    "    selector.fit(features, labels)\n",
    "    scores = selector.scores_\n",
    "    indices = selector.get_support(indices=True)\n",
    "    best_scores = [scores[i] for i in indices]\n",
    "    best_features = [features_list[i+1] for i in indices]\n",
    "    feature_scores = zip(best_features, best_scores)\n",
    "    sorted_features = (sorted(feature_scores, key=lambda x: x[1], reverse=True))\n",
    "    pprint(sorted_features)\n",
    "    return dict(sorted_features)\n"
   ]
  },
  {
   "cell_type": "code",
   "execution_count": 5,
   "metadata": {
    "collapsed": false
   },
   "outputs": [],
   "source": [
    "# Try a vareity of classifiers\n",
    "\n",
    "# Split data into training and testing sets\n",
    "from sklearn.cross_validation import train_test_split\n",
    "features_train, features_test, labels_train, labels_test = \\\n",
    "train_test_split(features, labels, test_size=0.3, random_state=42)\n",
    "\n",
    "from sklearn.naive_bayes import GaussianNB\n",
    "from sklearn import tree\n",
    "from sklearn.neighbors import KNeighborsClassifier\n",
    "from sklearn.ensemble import RandomForestClassifier, AdaBoostClassifier\n",
    "\n",
    "# Create classifiers\n",
    "nb_clf = GaussianNB()\n",
    "tree_clf = tree.DecisionTreeClassifier()\n",
    "knn_clf = KNeighborsClassifier()\n",
    "adb_clf = AdaBoostClassifier()\n",
    "\n",
    "# Set range of parameters for classifiers\n",
    "nb_params = {'feature_selection__k': range(1, 15)}\n",
    "tree_params = {\n",
    "    'algorithm__criterion': ['gini', 'entropy'],\n",
    "    'algorithm__max_depth': range(2, 8, 2), \n",
    "    'algorithm__splitter':('best','random'),\n",
    "    'algorithm__min_samples_split':[3,4,5],\n",
    "    'algorithm__max_leaf_nodes':[5,10]\n",
    "}\n",
    "knn_params = {\n",
    "    'feature_selection__k': range(3, 6),\n",
    "    'algorithm__n_neighbors': range(2, 6)\n",
    "}\n",
    "adb_params = {\n",
    "    'feature_selection__k': range(3, 8),\n",
    "    'algorithm__n_estimators': [50, 60],\n",
    "    'algorithm__algorithm': ['SAMME.R']\n",
    "}\n",
    "\n",
    "from sklearn.feature_selection import SelectKBest\n",
    "from sklearn.preprocessing import MinMaxScaler\n",
    "from sklearn.pipeline import Pipeline\n",
    "from sklearn.cross_validation import StratifiedShuffleSplit\n",
    "from sklearn.grid_search import GridSearchCV\n",
    "\n",
    "\n",
    "def test_algorithm(classifier, params):\n",
    "    '''\n",
    "    Function that takes in an algorithm classifier and their respective parameters as inputs.\n",
    "    Performs SelectKBest feature selection and GridSearchCV for parameter selection into a pipeline. \n",
    "    Prints parameter options, pipeline steps, f1 score, best parameters, and precision and recall. \n",
    "    Returns pipeline classifier.\n",
    "    '''\n",
    "    \n",
    "    select = SelectKBest()\n",
    "    \n",
    "    # Steps to be fed into pipeline\n",
    "    steps = [('feature_selection', select),\n",
    "             ('algorithm', classifier)]\n",
    "    \n",
    "    pipeline = Pipeline(steps)\n",
    "    \n",
    "    folds = 100\n",
    "    # StratifiedShuffleSplit returns stratified randomized folds\n",
    "    sss = StratifiedShuffleSplit(labels_train, n_iter=folds, random_state=42)\n",
    "    gs = GridSearchCV(pipeline, param_grid = params, cv=sss, scoring = 'f1')\n",
    "    \n",
    "    print 'Parameters:'\n",
    "    pprint(params)\n",
    "    print \"\"\n",
    "    \n",
    "    # Print out pipeline steps\n",
    "    print\"Pipeline: \\n\", [step for step, _ in pipeline.steps], '\\n'\n",
    "    \n",
    "    # Fit training data to GridSearchCV\n",
    "    gs.fit(features_train, labels_train)\n",
    "    \n",
    "    # Print f1 score\n",
    "    score = gs.best_score_\n",
    "    print 'f1 score: \\n', score, '\\n'\n",
    "    \n",
    "    # Fetch optimal parameters found\n",
    "    best_params = gs.best_estimator_.get_params()\n",
    "    print 'Best Parameters: '\n",
    "    for name in params.keys():\n",
    "        print name, ': ', best_params[name]\n",
    "        if name == 'feature_selection__k':\n",
    "            k_best = k_best_features(best_params[name])\n",
    "    \n",
    "    pred = gs.predict(features_test)\n",
    "    \n",
    "    # Calculate and print precision and recall evaluation metrics    \n",
    "    true_negatives = 0\n",
    "    false_negatives = 0\n",
    "    true_positives = 0\n",
    "    false_positives = 0\n",
    "    \n",
    "    for prediction, truth in zip(pred, labels_test):\n",
    "            if prediction == 0 and truth == 0:\n",
    "                true_negatives += 1\n",
    "            elif prediction == 0 and truth == 1:\n",
    "                false_negatives += 1\n",
    "            elif prediction == 1 and truth == 0:\n",
    "                false_positives += 1\n",
    "            elif prediction == 1 and truth == 1:\n",
    "                true_positives += 1\n",
    "    \n",
    "    total_predictions = true_negatives + false_negatives + false_positives + true_positives\n",
    "    accuracy = 1.0*(true_positives + true_negatives)/total_predictions\n",
    "    precision = 1.0*true_positives/(true_positives+false_positives)\n",
    "    recall = 1.0*true_positives/(true_positives+false_negatives)\n",
    "    f1 = 2.0 * true_positives/(2*true_positives + false_positives+false_negatives)\n",
    "    \n",
    "    print ''\n",
    "    print 'Evaluation metrics:'\n",
    "    print 'Precision: ', precision\n",
    "    print 'Recall: ', recall\n",
    "    \n",
    "    clf = gs.best_estimator_\n",
    "    return clf\n",
    "        "
   ]
  },
  {
   "cell_type": "code",
   "execution_count": 20,
   "metadata": {
    "collapsed": false
   },
   "outputs": [
    {
     "name": "stdout",
     "output_type": "stream",
     "text": [
      "Naive Bayes Algorithm: \n",
      "\n",
      "Parameters:\n",
      "{'feature_selection__k': [1, 2, 3, 4, 5, 6, 7, 8, 9, 10, 11, 12, 13, 14]}\n",
      "\n",
      "Pipeline: \n",
      "['feature_selection', 'algorithm'] \n",
      "\n",
      "f1 score: \n",
      "0.149666666667 \n",
      "\n",
      "Best Parameters: \n",
      "feature_selection__k :  14\n",
      "[('exercised_stock_options', 24.815079733218194),\n",
      " ('total_stock_value', 24.182898678566879),\n",
      " ('bonus', 20.792252047181535),\n",
      " ('salary', 18.289684043404513),\n",
      " ('percent_to_poi', 16.409712548035792),\n",
      " ('deferred_income', 11.458476579280369),\n",
      " ('long_term_incentive', 9.9221860131898225),\n",
      " ('restricted_stock', 9.2128106219771002),\n",
      " ('total_payments', 8.7727777300916756),\n",
      " ('shared_receipt_with_poi', 8.589420731682381),\n",
      " ('loan_advances', 7.1840556582887247),\n",
      " ('expenses', 6.0941733106389453),\n",
      " ('from_poi_to_this_person', 5.2434497133749582),\n",
      " ('other', 4.1874775069953749)]\n",
      "\n",
      "Evaluation metrics:\n",
      "Precision:  0.4\n",
      "Recall:  0.4\n"
     ]
    },
    {
     "data": {
      "text/plain": [
       "Pipeline(steps=[('feature_selection', SelectKBest(k=14, score_func=<function f_classif at 0x10e026b90>)), ('algorithm', GaussianNB())])"
      ]
     },
     "execution_count": 20,
     "metadata": {},
     "output_type": "execute_result"
    }
   ],
   "source": [
    "print 'Naive Bayes Algorithm: \\n'\n",
    "test_algorithm(nb_clf, nb_params)"
   ]
  },
  {
   "cell_type": "code",
   "execution_count": 21,
   "metadata": {
    "collapsed": false
   },
   "outputs": [
    {
     "name": "stdout",
     "output_type": "stream",
     "text": [
      "Decision Tree Algorithm: \n",
      "\n",
      "Parameters:\n",
      "{'algorithm__criterion': ['gini', 'entropy'],\n",
      " 'algorithm__max_depth': [2, 4, 6],\n",
      " 'algorithm__max_leaf_nodes': [5, 10],\n",
      " 'algorithm__min_samples_split': [3, 4, 5],\n",
      " 'algorithm__splitter': ('best', 'random')}\n",
      "\n",
      "Pipeline: \n",
      "['feature_selection', 'algorithm'] \n",
      "\n",
      "f1 score: \n",
      "0.327333333333 \n",
      "\n",
      "Best Parameters: \n",
      "algorithm__max_leaf_nodes :  10\n",
      "algorithm__splitter :  best\n",
      "algorithm__min_samples_split :  4\n",
      "algorithm__criterion :  gini\n",
      "algorithm__max_depth :  6\n",
      "\n",
      "Evaluation metrics:\n",
      "Precision:  0.333333333333\n",
      "Recall:  0.2\n"
     ]
    },
    {
     "data": {
      "text/plain": [
       "Pipeline(steps=[('feature_selection', SelectKBest(k=10, score_func=<function f_classif at 0x10e026b90>)), ('algorithm', DecisionTreeClassifier(class_weight=None, criterion='gini', max_depth=6,\n",
       "            max_features=None, max_leaf_nodes=10, min_samples_leaf=1,\n",
       "            min_samples_split=4, min_weight_fraction_leaf=0.0,\n",
       "            presort=False, random_state=None, splitter='best'))])"
      ]
     },
     "execution_count": 21,
     "metadata": {},
     "output_type": "execute_result"
    }
   ],
   "source": [
    "print 'Decision Tree Algorithm: \\n'\n",
    "test_algorithm(tree_clf, tree_params)"
   ]
  },
  {
   "cell_type": "code",
   "execution_count": 24,
   "metadata": {
    "collapsed": false
   },
   "outputs": [
    {
     "name": "stdout",
     "output_type": "stream",
     "text": [
      "K Nearest Neighbor Algorithm: \n",
      "\n",
      "Parameters:\n",
      "{'algorithm__n_neighbors': [2, 3, 4, 5], 'feature_selection__k': [3, 4, 5]}\n",
      "\n",
      "Pipeline: \n",
      "['feature_selection', 'algorithm'] \n",
      "\n",
      "f1 score: \n",
      "0.296666666667 \n",
      "\n",
      "Best Parameters: \n",
      "feature_selection__k :  5\n",
      "[('exercised_stock_options', 24.815079733218194),\n",
      " ('total_stock_value', 24.182898678566879),\n",
      " ('bonus', 20.792252047181535),\n",
      " ('salary', 18.289684043404513),\n",
      " ('percent_to_poi', 16.409712548035792)]\n",
      "algorithm__n_neighbors :  3\n",
      "\n",
      "Evaluation metrics:\n",
      "Precision:  0.0\n",
      "Recall:  0.0\n"
     ]
    },
    {
     "data": {
      "text/plain": [
       "Pipeline(steps=[('feature_selection', SelectKBest(k=5, score_func=<function f_classif at 0x10e026b90>)), ('algorithm', KNeighborsClassifier(algorithm='auto', leaf_size=30, metric='minkowski',\n",
       "           metric_params=None, n_jobs=1, n_neighbors=3, p=2,\n",
       "           weights='uniform'))])"
      ]
     },
     "execution_count": 24,
     "metadata": {},
     "output_type": "execute_result"
    }
   ],
   "source": [
    "print 'K Nearest Neighbor Algorithm: \\n'\n",
    "test_algorithm(knn_clf, knn_params)"
   ]
  },
  {
   "cell_type": "code",
   "execution_count": 25,
   "metadata": {
    "collapsed": false
   },
   "outputs": [
    {
     "name": "stdout",
     "output_type": "stream",
     "text": [
      "AdaBoost Algorithm: \n",
      "\n",
      "Parameters:\n",
      "{'algorithm__algorithm': ['SAMME.R'],\n",
      " 'algorithm__n_estimators': [50, 60],\n",
      " 'feature_selection__k': [3, 4, 5, 6, 7]}\n",
      "\n",
      "Pipeline: \n",
      "['feature_selection', 'algorithm'] \n",
      "\n",
      "f1 score: \n",
      "0.284 \n",
      "\n",
      "Best Parameters: \n",
      "feature_selection__k :  7\n",
      "[('exercised_stock_options', 24.815079733218194),\n",
      " ('total_stock_value', 24.182898678566879),\n",
      " ('bonus', 20.792252047181535),\n",
      " ('salary', 18.289684043404513),\n",
      " ('percent_to_poi', 16.409712548035792),\n",
      " ('deferred_income', 11.458476579280369),\n",
      " ('long_term_incentive', 9.9221860131898225)]\n",
      "algorithm__algorithm :  SAMME.R\n",
      "algorithm__n_estimators :  60\n",
      "\n",
      "Evaluation metrics:\n",
      "Precision:  0.166666666667\n",
      "Recall:  0.2\n"
     ]
    },
    {
     "data": {
      "text/plain": [
       "Pipeline(steps=[('feature_selection', SelectKBest(k=7, score_func=<function f_classif at 0x10e026b90>)), ('algorithm', AdaBoostClassifier(algorithm='SAMME.R', base_estimator=None,\n",
       "          learning_rate=1.0, n_estimators=60, random_state=None))])"
      ]
     },
     "execution_count": 25,
     "metadata": {},
     "output_type": "execute_result"
    }
   ],
   "source": [
    "print 'AdaBoost Algorithm: \\n'\n",
    "test_algorithm(adb_clf, adb_params)"
   ]
  },
  {
   "cell_type": "code",
   "execution_count": 6,
   "metadata": {
    "collapsed": true
   },
   "outputs": [],
   "source": [
    "def choose_algorithm(classifier, params):\n",
    "    '''\n",
    "    Function that takes in an algorithm classifier and its respective parameters as inputs.\n",
    "    Performs GridSearchCV for parameter selection into a pipeline. Prints parameter options, \n",
    "    pipeline steps, f1 score, best parameters, and precision and recall. Selects features based \n",
    "    on feature importances. Returns pipeline classifier.\n",
    "    '''\n",
    "\n",
    "    # Steps to be fed into pipeline\n",
    "    steps = [('algorithm', classifier)]\n",
    "    \n",
    "    pipeline = Pipeline(steps)\n",
    "    \n",
    "    folds = 50\n",
    "    # StratifiedShuffleSplit returns stratified randomized folds\n",
    "    sss = StratifiedShuffleSplit(labels_train, n_iter=folds, random_state=42)\n",
    "    gs = GridSearchCV(pipeline, param_grid = params, cv=sss, scoring = 'f1')\n",
    "    \n",
    "    print 'Parameters:'\n",
    "    pprint(params)\n",
    "    print \"\"\n",
    "    \n",
    "    # Print out pipeline steps\n",
    "    print\"Pipeline: \\n\", [step for step, _ in pipeline.steps], '\\n'\n",
    "    \n",
    "    # Fit training data to GridSearchCV\n",
    "    gs.fit(features_train, labels_train)\n",
    "    \n",
    "    # Print f1 score\n",
    "    score = gs.best_score_\n",
    "    print 'f1 score: \\n', score, '\\n'\n",
    "    \n",
    "    # Fetch optimal parameters found\n",
    "    best_params = gs.best_estimator_.get_params()\n",
    "    print 'Best Parameters: '\n",
    "    for name in params.keys():\n",
    "        print name, ': ', best_params[name]\n",
    "    \n",
    "    pred = gs.predict(features_test)\n",
    "    \n",
    "    # Calculate and print precision and recall evaluation metrics    \n",
    "    true_negatives = 0\n",
    "    false_negatives = 0\n",
    "    true_positives = 0\n",
    "    false_positives = 0\n",
    "    \n",
    "    for prediction, truth in zip(pred, labels_test):\n",
    "            if prediction == 0 and truth == 0:\n",
    "                true_negatives += 1\n",
    "            elif prediction == 0 and truth == 1:\n",
    "                false_negatives += 1\n",
    "            elif prediction == 1 and truth == 0:\n",
    "                false_positives += 1\n",
    "            elif prediction == 1 and truth == 1:\n",
    "                true_positives += 1\n",
    "    \n",
    "    total_predictions = true_negatives + false_negatives + false_positives + true_positives\n",
    "    accuracy = 1.0*(true_positives + true_negatives)/total_predictions\n",
    "    precision = 1.0*true_positives/(true_positives+false_positives)\n",
    "    recall = 1.0*true_positives/(true_positives+false_negatives)\n",
    "    f1 = 2.0 * true_positives/(2*true_positives + false_positives+false_negatives)\n",
    "    \n",
    "    print ''\n",
    "    print 'Evaluation metrics:'\n",
    "    print 'Precision: ', precision\n",
    "    print 'Recall: ', recall\n",
    "    print 'f1:', f1\n",
    "    \n",
    "    \n",
    "    clf = gs.best_estimator_\n",
    "    \n",
    "    # Select features based on feature importances\n",
    "    importances = clf.named_steps['algorithm'].feature_importances_\n",
    "    indices = np.argsort(importances)[::-1]\n",
    "\n",
    "    print ''\n",
    "    print 'Feature Ranking: '\n",
    "    for i in range(3):\n",
    "        print \"feature number {}: {} ({})\".format(i+1,features_list[indices[i]+1],importances[indices[i]])\n",
    "    \n",
    "    \n",
    "    return clf"
   ]
  },
  {
   "cell_type": "code",
   "execution_count": 7,
   "metadata": {
    "collapsed": false
   },
   "outputs": [
    {
     "name": "stdout",
     "output_type": "stream",
     "text": [
      "Parameters:\n",
      "{'algorithm__criterion': ['gini', 'entropy'],\n",
      " 'algorithm__max_depth': [2, 4, 6],\n",
      " 'algorithm__max_leaf_nodes': [5, 10],\n",
      " 'algorithm__min_samples_split': [3, 4, 5],\n",
      " 'algorithm__splitter': ('best', 'random')}\n",
      "\n",
      "Pipeline: \n",
      "['algorithm'] \n",
      "\n",
      "f1 score: \n",
      "0.326666666667 \n",
      "\n",
      "Best Parameters: \n",
      "algorithm__max_leaf_nodes :  10\n",
      "algorithm__splitter :  random\n",
      "algorithm__min_samples_split :  4\n",
      "algorithm__criterion :  gini\n",
      "algorithm__max_depth :  6\n",
      "\n",
      "Evaluation metrics:\n",
      "Precision:  0.5\n",
      "Recall:  0.4\n",
      "f1: 0.444444444444\n",
      "\n",
      "Feature Ranking: \n",
      "feature number 1: expenses (0.3908498596)\n",
      "feature number 2: percent_to_poi (0.325984720516)\n",
      "feature number 3: restricted_stock (0.101351351351)\n"
     ]
    },
    {
     "name": "stderr",
     "output_type": "stream",
     "text": [
      "//anaconda/lib/python2.7/site-packages/sklearn/metrics/classification.py:1074: UndefinedMetricWarning: F-score is ill-defined and being set to 0.0 due to no predicted samples.\n",
      "  'precision', 'predicted', average, warn_for)\n"
     ]
    },
    {
     "data": {
      "text/plain": [
       "Pipeline(steps=[('algorithm', DecisionTreeClassifier(class_weight=None, criterion='gini', max_depth=6,\n",
       "            max_features=None, max_leaf_nodes=10, min_samples_leaf=1,\n",
       "            min_samples_split=4, min_weight_fraction_leaf=0.0,\n",
       "            presort=False, random_state=None, splitter='random'))])"
      ]
     },
     "execution_count": 7,
     "metadata": {},
     "output_type": "execute_result"
    }
   ],
   "source": [
    "choose_algorithm(tree_clf, tree_params)"
   ]
  },
  {
   "cell_type": "code",
   "execution_count": 9,
   "metadata": {
    "collapsed": false
   },
   "outputs": [
    {
     "name": "stdout",
     "output_type": "stream",
     "text": [
      "Parameters:\n",
      "{'algorithm__criterion': ['gini', 'entropy'],\n",
      " 'algorithm__max_depth': [2, 4, 6],\n",
      " 'algorithm__max_leaf_nodes': [5, 10],\n",
      " 'algorithm__min_samples_split': [3, 4, 5],\n",
      " 'algorithm__splitter': ('best', 'random')}\n",
      "\n",
      "Pipeline: \n",
      "['algorithm'] \n",
      "\n",
      "f1 score: \n",
      "0.321333333333 \n",
      "\n",
      "Best Parameters: \n",
      "algorithm__max_leaf_nodes :  5\n",
      "algorithm__splitter :  best\n",
      "algorithm__min_samples_split :  4\n",
      "algorithm__criterion :  entropy\n",
      "algorithm__max_depth :  4\n",
      "\n",
      "Evaluation metrics:\n",
      "Precision:  0.444444444444\n",
      "Recall:  0.8\n",
      "f1: 0.571428571429\n",
      "\n",
      "Feature Ranking: \n",
      "feature number 1: bonus (0.428698703468)\n",
      "feature number 2: exercised_stock_options (0.36037706334)\n",
      "feature number 3: percent_to_poi (0.210924233192)\n"
     ]
    }
   ],
   "source": [
    "### Task 5: Tune your classifier to achieve better than .3 precision and recall \n",
    "### using our testing script. Check the tester.py script in the final project\n",
    "### folder for details on the evaluation method, especially the test_classifier\n",
    "### function. Because of the small size of the dataset, the script uses\n",
    "### stratified shuffle split cross validation. For more info: \n",
    "### http://scikit-learn.org/stable/modules/generated/sklearn.cross_validation.StratifiedShuffleSplit.html\n",
    "\n",
    "# Assign the Decision Tree algorithm to clf\n",
    "clf = choose_algorithm(tree_clf, tree_params)\n",
    "\n",
    "### Task 6: Dump your classifier, dataset, and features_list so anyone can\n",
    "### check your results. You do not need to change anything below, but make sure\n",
    "### that the version of poi_id.py that you submit can be run on its own and\n",
    "### generates the necessary .pkl files for validating your results.\n",
    "\n",
    "dump_classifier_and_data(clf, my_dataset, features_list)"
   ]
  },
  {
   "cell_type": "markdown",
   "metadata": {},
   "source": [
    "# Response Questions"
   ]
  },
  {
   "cell_type": "markdown",
   "metadata": {},
   "source": [
    "1: Summarize for us the goal of this project and how machine learning is useful in trying to accomplish it. As part of your answer, give some background on the dataset and how it can be used to answer the project question. Were there any outliers in the data when you got it, and how did you handle those?  [relevant rubric items: “data exploration”, “outlier investigation”]"
   ]
  },
  {
   "cell_type": "markdown",
   "metadata": {},
   "source": [
    "The purpose of this project is to performing machine learning techniques by building an algorithm that can identify Enron employees who may have been involved in the company's fraud. A dataset containing information on various financial and email indicators of different Enron employees was used to help build the model. This includes features such as the employee name, salary, bonus, number of emails sent, and whether or not they are a POI (Person of Interest). The next step is to explore the dataset to look for any relationships or outliers between the data. For example, I found that there was a 'Total' column included in the data, as well as a datapoint called 'The Travel Agency in the Park'. These datapoints are irrelevant to our investigation as they are not Enron employees. Once the dataset has been cleaned for outliers, I was able to use the relevant features to help make predictions on the likelihood that a given employee was a POI."
   ]
  },
  {
   "cell_type": "markdown",
   "metadata": {},
   "source": [
    "2: What features did you end up using in your POI identifier, and what selection process did you use to pick them? Did you have to do any scaling? Why or why not? As part of the assignment, you should attempt to engineer your own feature that does not come ready-made in the dataset -- explain what feature you tried to make, and the rationale behind it. (You do not necessarily have to use it in the final analysis, only engineer and test it.) In your feature selection step, if you used an algorithm like a decision tree, please also give the feature importances of the features that you use, and if you used an automated feature selection function like SelectKBest, please report the feature scores and reasons for your choice of parameter values.  [relevant rubric items: “create new features”, “properly scale features”, “intelligently select feature”]"
   ]
  },
  {
   "cell_type": "markdown",
   "metadata": {},
   "source": [
    "My initial features list contained all 20 available features within the dataset. I also decided to create two additional features called 'percent_from_poi' and 'percent_to_poi' using the original data provided. These features represent the ratio between the number of emails received (sent) from a POI to the total number of emails received (sent). The idea behind this is that I would like to investigate whether employees are likely to be POI's themselves if they communicate frequently with other POI's. I then preprocessed my features list by optimizing feature selection and feature importance. I used SelectKBest to select the best K features, as well as MinMaxScaler to add weights to the remaining features. Preprocessing data in machine learning is an important step before picking an algorithm as it  reduces the processing time of the algorithms. For example, I noticed that using MinMaxScaler reduced the completion time of the support vector machine algorithm from several hours to several minutes. Another reason is that some features may not be relevant when making predictions, and can therefore be ignored."
   ]
  },
  {
   "cell_type": "markdown",
   "metadata": {},
   "source": [
    "3: What algorithm did you end up using? What other one(s) did you try? How did model performance differ between algorithms?  [relevant rubric item: “pick an algorithm”]"
   ]
  },
  {
   "cell_type": "markdown",
   "metadata": {},
   "source": [
    "I tested four differect algorithms: Naive Bayes, Decision Tree, Support Vector Machine, and K Nearest Neighbor.  I noticed when running these algorithms that they each took different amount of times to execute, and also made different predictions. The support vector machine took the longest time to run, and K Nearest Neighbor returned the poorest classification results. Based on the evaluation metrics of each algorithm, I decided to choose the Decision Tree algorithm as it returned the highest f1 score."
   ]
  },
  {
   "cell_type": "markdown",
   "metadata": {},
   "source": [
    "4: What does it mean to tune the parameters of an algorithm, and what can happen if you don’t do this well?  How did you tune the parameters of your particular algorithm? (Some algorithms do not have parameters that you need to tune -- if this is the case for the one you picked, identify and briefly explain how you would have done it for the model that was not your final choice or a different model that does utilize parameter tuning, e.g. a decision tree classifier).  [relevant rubric item: “tune the algorithm”]"
   ]
  },
  {
   "cell_type": "markdown",
   "metadata": {},
   "source": [
    "Several machine learning algorithms take in parameters that determine how it will be performed. This is an important step in the machine learning process as it will determine the results of the model. If not done properly, the algorithm may run the risk of over-fitting or under-fitting the data. This will cause the results from the training data to differ from the testing data. Fortunately, scikit-learn provides a class called GridSearchCV to help find the optimal parameters of the model. For the Decision Tree algorithm, I tested the 'criterion' parameters of 'gini' and 'entropy', as well as 'max_depth' of 2, 4, 6, 8, and 10. After simulating each of the possible parameters through brute force, GridSearchCV returned the optimal parameters to be 'criterion':'gini' and 'max_depth': 6."
   ]
  },
  {
   "cell_type": "markdown",
   "metadata": {},
   "source": [
    "5: What is validation, and what’s a classic mistake you can make if you do it wrong? How did you validate your analysis?  [relevant rubric item: “validation strategy”]"
   ]
  },
  {
   "cell_type": "markdown",
   "metadata": {},
   "source": [
    "In machine learning, data is split up into training and testing sets. The training set is used to train the model, while the remaining test set is used for predictions. We 'pretend' to not know the results of the test set, and compare predictions to actual results to measure the results. However, there is a risk of overfitting the data as knowledge about the test set can 'leak' into the model. To solve this problem, cross-validation may be used by splitting the test data into smaller subsets. After several rounds of validation, the average results are returned. For this project, I used Stratified Shuffle Split, which splits up a random portion of the data several times. "
   ]
  },
  {
   "cell_type": "markdown",
   "metadata": {},
   "source": [
    "6: Give at least 2 evaluation metrics and your average performance for each of them.  Explain an interpretation of your metrics that says something human-understandable about your algorithm’s performance. [relevant rubric item: “usage of evaluation metrics”]"
   ]
  },
  {
   "cell_type": "markdown",
   "metadata": {},
   "source": [
    "Evaluation metrics such as as precision and recall are used in machine learning to measure the performance of an algorithm. I chose to include these evaluation metrics when determining the effectiveness of my algorithms as they take into account the number of true positives, true negatives, false positives, and false negatives of the algorithm. Precision is the ratio between true positives and the total amount of POIs predicted by the algorithm (true positives + false positives). Recall is the ratio between true positives and the actual amount of POIs (true positives + false negatives). The Decision Tree algorithm identified scored a precision of 0.44978 and a recall of 0.36500 when running the test_classifier function."
   ]
  },
  {
   "cell_type": "markdown",
   "metadata": {
    "collapsed": true
   },
   "source": [
    "<h3>References:</h3>\n",
    "\n",
    "https://civisanalytics.com/blog/data-science/2016/01/06/workflows-python-using-pipeline-gridsearchcv-for-compact-code/\n",
    "http://abshinn.github.io/python/sklearn/2014/06/08/grid-searching-in-all-the-right-places/\n",
    "https://github.com/amueller/scipy_2015_sklearn_tutorial/tree/master/notebooks\n",
    "<br>https://www.youtube.com/watch?v=80fZrVMurPM\n",
    "<br>https://www.youtube.com/watch?v=Ud-FsEWegmA&t=8173s\n",
    "<br>https://discussions.udacity.com/t/feature-importances-/173319/10"
   ]
  }
 ],
 "metadata": {
  "kernelspec": {
   "display_name": "Python 2",
   "language": "python",
   "name": "python2"
  },
  "language_info": {
   "codemirror_mode": {
    "name": "ipython",
    "version": 2
   },
   "file_extension": ".py",
   "mimetype": "text/x-python",
   "name": "python",
   "nbconvert_exporter": "python",
   "pygments_lexer": "ipython2",
   "version": "2.7.12"
  }
 },
 "nbformat": 4,
 "nbformat_minor": 0
}
